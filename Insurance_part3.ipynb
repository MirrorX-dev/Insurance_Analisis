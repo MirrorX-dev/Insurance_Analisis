{
 "cells": [
  {
   "cell_type": "code",
   "execution_count": 47,
   "id": "113ef037",
   "metadata": {},
   "outputs": [
    {
     "ename": "SyntaxError",
     "evalue": "invalid syntax (662113228.py, line 1)",
     "output_type": "error",
     "traceback": [
      "\u001b[1;36m  File \u001b[1;32m\"C:\\Users\\Vespertino\\AppData\\Local\\Temp\\ipykernel_2276\\662113228.py\"\u001b[1;36m, line \u001b[1;32m1\u001b[0m\n\u001b[1;33m    Ejercicio 5. Utilizando seaborn crea un gráfico que muestre un punto para cada trayecto del día 25:\u001b[0m\n\u001b[1;37m              ^\u001b[0m\n\u001b[1;31mSyntaxError\u001b[0m\u001b[1;31m:\u001b[0m invalid syntax\n"
     ]
    }
   ],
   "source": [
    "Ejercicio 5. Utilizando seaborn crea un gráfico que muestre un punto para cada trayecto del día 25:\n",
    "• El eje x será la hora de inicio del viaje (0-23).\n",
    "• El eje y será la duración del trayecto.\n",
    "• Para el estilo del marcador se usará el tipo de usuario.\n",
    "• El tamaño del marcador se corresponderá con el rango de edad del usuario.\n",
    "\n",
    "Nota: Como sólo hay 24 valores posibles para la hora, los puntos se acumularán en ellos. \n",
    "Se valorará encontrar una solución que mejore la visualización.\n",
    "(Posibles funciones: catplot, stripplot, swarmplot)\n"
   ]
  },
  {
   "cell_type": "code",
   "execution_count": 48,
   "id": "b6c70095",
   "metadata": {
    "scrolled": true
   },
   "outputs": [],
   "source": [
    "import json\n",
    "import pandas as pd\n",
    "import seaborn as sns\n",
    "\n",
    "# Cargar los datos en un DataFrame\n",
    "with open('C:/Users/Vespertino/Documents/iris/202106_movements_fixed.json') as f:\n",
    "    data = json.load(f)\n",
    "\n",
    "df = pd.DataFrame(data)"
   ]
  },
  {
   "cell_type": "code",
   "execution_count": 49,
   "id": "2f87e511",
   "metadata": {},
   "outputs": [
    {
     "name": "stdout",
     "output_type": "stream",
     "text": [
      "Número de columnas: 3960\n",
      "<class 'pandas.core.frame.DataFrame'>\n",
      "RangeIndex: 3960 entries, 0 to 3959\n",
      "Data columns (total 11 columns):\n",
      " #   Column            Non-Null Count  Dtype \n",
      "---  ------            --------------  ----- \n",
      " 0   _id               3960 non-null   object\n",
      " 1   user_day_code     3960 non-null   object\n",
      " 2   idplug_base       3960 non-null   int64 \n",
      " 3   user_type         3960 non-null   int64 \n",
      " 4   idunplug_base     3960 non-null   int64 \n",
      " 5   travel_time       3960 non-null   int64 \n",
      " 6   idunplug_station  3960 non-null   int64 \n",
      " 7   ageRange          3960 non-null   int64 \n",
      " 8   idplug_station    3960 non-null   int64 \n",
      " 9   unplug_hourTime   3960 non-null   object\n",
      " 10  zip_code          3960 non-null   object\n",
      "dtypes: int64(7), object(4)\n",
      "memory usage: 340.4+ KB\n"
     ]
    }
   ],
   "source": [
    "# Convert the unplug_hourTime column to a date-time format\n",
    "#df['unplug_hourTime'] = pd.to_datetime(df['unplug_hourTime'])\n",
    "\n",
    "# Filter the DataFrame to include only trips that occurred on the 25th day of the month\n",
    "#df = df[df['unplug_hourTime'].dt.day == 25]\n",
    "print('Número de columnas:', len(df))\n",
    "df.info()"
   ]
  },
  {
   "cell_type": "code",
   "execution_count": 55,
   "id": "4471ae72",
   "metadata": {
    "scrolled": true
   },
   "outputs": [
    {
     "data": {
      "text/plain": [
       "<AxesSubplot:>"
      ]
     },
     "execution_count": 55,
     "metadata": {},
     "output_type": "execute_result"
    },
    {
     "data": {
      "image/png": "[encoded data removed]",
      "text/plain": [
       "<Figure size 640x480 with 1 Axes>"
      ]
     },
     "metadata": {},
     "output_type": "display_data"
    }
   ],
   "source": [
    "# Crear el gráfico utilizando Seaborn con datos existentes\n",
    "df = df[df['unplug_hourTime'].str.contains('01')]\n",
    "\n",
    "sns.scatterplot(x='unplug_hourTime', y='travel_time', hue='user_type', size='ageRange', data=df)"
   ]
  },
  {
   "cell_type": "code",
   "execution_count": 51,
   "id": "d3d1d8c1",
   "metadata": {},
   "outputs": [
    {
     "data": {
      "text/plain": [
       "<AxesSubplot:>"
      ]
     },
     "execution_count": 51,
     "metadata": {},
     "output_type": "execute_result"
    },
    {
     "data": {
      "image/png": "[encoded data removed]",
      "text/plain": [
       "<Figure size 640x480 with 1 Axes>"
      ]
     },
     "metadata": {},
     "output_type": "display_data"
    }
   ],
   "source": [
    "import pandas as pd\n",
    "import seaborn as sns\n",
    "\n",
    "# Carga los datos desde el archivo JSON\n",
    "df = pd.read_json('C:/Users/Vespertino/Documents/iris/202106_movements_fixed.json')\n",
    "\n",
    "# Extrae el día del mes de la columna 'unplug_hourTime'\n",
    "df['day'] = pd.DatetimeIndex(df['unplug_hourTime']).day\n",
    "\n",
    "# Selecciona los viajes del día 25\n",
    "df = df[df['day'] == 25]\n",
    "\n",
    "# Crea una nueva columna con la hora de inicio del viaje\n",
    "df['start_hour'] = pd.DatetimeIndex(df['unplug_hourTime']).hour\n",
    "\n",
    "# Agrupa los viajes por hora y calcula la duración promedio de los viajes\n",
    "hourly_data = df.groupby('start_hour')['travel_time'].mean().reset_index()\n",
    "\n",
    "# Agrega la información del tipo de usuario y rango de edad a los datos por hora\n",
    "user_data = df[['start_hour', 'user_type', 'ageRange']].drop_duplicates()\n",
    "\n",
    "hourly_data = pd.merge(hourly_data, user_data, on='start_hour')\n",
    "\n",
    "# Crea el gráfico utilizando seaborn\n",
    "sns.scatterplot(data=hourly_data, x='start_hour', y='travel_time', hue='user_type', size='ageRange')\n",
    "\n"
   ]
  },
  {
   "cell_type": "code",
   "execution_count": 52,
   "id": "8b70e379",
   "metadata": {},
   "outputs": [
    {
     "ename": "SyntaxError",
     "evalue": "invalid syntax (3462018714.py, line 1)",
     "output_type": "error",
     "traceback": [
      "\u001b[1;36m  File \u001b[1;32m\"C:\\Users\\Vespertino\\AppData\\Local\\Temp\\ipykernel_2276\\3462018714.py\"\u001b[1;36m, line \u001b[1;32m1\u001b[0m\n\u001b[1;33m    Ejercicio 6. Utilizando seaborn, crea un gráfico para visualizar el número de usuarios de cada tipo\u001b[0m\n\u001b[1;37m              ^\u001b[0m\n\u001b[1;31mSyntaxError\u001b[0m\u001b[1;31m:\u001b[0m invalid syntax\n"
     ]
    }
   ],
   "source": [
    "Ejercicio 6. Utilizando seaborn, crea un gráfico para visualizar el número de usuarios de cada tipo \n",
    "según el día de la semana.\n",
    "(Posibles funciones:catplot, bar_plot, count_plot)"
   ]
  },
  {
   "cell_type": "code",
   "execution_count": null,
   "id": "0c85f31b",
   "metadata": {},
   "outputs": [],
   "source": [
    "# Lib\n",
    "import matplotlib.pyplot as plt\n",
    "\n",
    "# Carga de datos en un DataFrame de Pandas\n",
    "data = pd.read_json(\"C:/Users/Vespertino/Documents/iris/202106_movements_fixed.json\")\n",
    "\n",
    "# Agregar columna para el día de la semana\n",
    "data[\"day_of_week\"] = pd.to_datetime(data[\"unplug_hourTime\"]).dt.day_name()\n",
    "\n",
    "# Crear el gráfico utilizando Seaborn\n",
    "sns.countplot(x=\"day_of_week\", hue=\"user_type\", data=data)\n",
    "\n",
    "# Agregar título y etiquetas de los ejes\n",
    "plt.title(\"Número de usuarios por tipo y día de la semana\")\n",
    "plt.xlabel(\"Día de la semana\")\n",
    "plt.ylabel(\"Número de usuarios\")"
   ]
  },
  {
   "cell_type": "code",
   "execution_count": null,
   "id": "f2ff3f37",
   "metadata": {},
   "outputs": [],
   "source": []
  },
  {
   "cell_type": "code",
   "execution_count": null,
   "id": "3a002bf3",
   "metadata": {},
   "outputs": [],
   "source": []
  }
 ],
 "metadata": {
  "kernelspec": {
   "display_name": "Python 3 (ipykernel)",
   "language": "python",
   "name": "python3"
  },
  "language_info": {
   "codemirror_mode": {
    "name": "ipython",
    "version": 3
   },
   "file_extension": ".py",
   "mimetype": "text/x-python",
   "name": "python",
   "nbconvert_exporter": "python",
   "pygments_lexer": "ipython3",
   "version": "3.9.13"
  }
 },
 "nbformat": 4,
 "nbformat_minor": 5
}
